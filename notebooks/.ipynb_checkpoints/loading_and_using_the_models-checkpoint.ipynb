{
 "cells": [
  {
   "cell_type": "markdown",
   "id": "11578dab-dbeb-4e11-bf07-e592e157e78e",
   "metadata": {},
   "source": [
    "# Loading and using the models"
   ]
  },
  {
   "cell_type": "markdown",
   "id": "8a484ab5-fd18-4928-b540-aa3e086364eb",
   "metadata": {},
   "source": [
    "### Importing the libraries"
   ]
  },
  {
   "cell_type": "code",
   "execution_count": 1,
   "id": "b6e4370c-16b5-4011-926e-819709970c30",
   "metadata": {},
   "outputs": [],
   "source": [
    "import numpy as np\n",
    "import matplotlib.pyplot as plt\n",
    "import pandas as pd\n",
    "from tensorflow.keras.models import load_model\n",
    "import pickle\n",
    "import lightgbm as lgbm\n",
    "from astropy.visualization import hist\n",
    "from scipy.stats import gaussian_kde"
   ]
  },
  {
   "cell_type": "markdown",
   "id": "c9a45530-ead2-4726-9d13-18c84d4631c4",
   "metadata": {},
   "source": [
    "### Choosing the galaxy property"
   ]
  },
  {
   "cell_type": "code",
   "execution_count": 2,
   "id": "445b3f3b-bf00-4d0b-8770-9b58da19ccdb",
   "metadata": {},
   "outputs": [],
   "source": [
    "prop = 'stellar_mass'"
   ]
  },
  {
   "cell_type": "markdown",
   "id": "dc85cd0e-6699-4cac-91be-a10674722eec",
   "metadata": {},
   "source": [
    "### Loading data"
   ]
  },
  {
   "cell_type": "code",
   "execution_count": 3,
   "id": "df6b4e6d-16e9-4644-9914-185b0aa69208",
   "metadata": {},
   "outputs": [
    {
     "data": {
      "text/html": [
       "<div>\n",
       "<style scoped>\n",
       "    .dataframe tbody tr th:only-of-type {\n",
       "        vertical-align: middle;\n",
       "    }\n",
       "\n",
       "    .dataframe tbody tr th {\n",
       "        vertical-align: top;\n",
       "    }\n",
       "\n",
       "    .dataframe thead th {\n",
       "        text-align: right;\n",
       "    }\n",
       "</style>\n",
       "<table border=\"1\" class=\"dataframe\">\n",
       "  <thead>\n",
       "    <tr style=\"text-align: right;\">\n",
       "      <th></th>\n",
       "      <th>M_h</th>\n",
       "      <th>C_h</th>\n",
       "      <th>S_h</th>\n",
       "      <th>z_h</th>\n",
       "      <th>Delta3_h</th>\n",
       "      <th>X_h</th>\n",
       "      <th>Y_h</th>\n",
       "      <th>Z_h</th>\n",
       "      <th>stellar_mass</th>\n",
       "      <th>sSFR</th>\n",
       "      <th>radius</th>\n",
       "      <th>color</th>\n",
       "      <th>x_g</th>\n",
       "      <th>y_g</th>\n",
       "      <th>z_g</th>\n",
       "    </tr>\n",
       "  </thead>\n",
       "  <tbody>\n",
       "    <tr>\n",
       "      <th>0</th>\n",
       "      <td>11.275434</td>\n",
       "      <td>1.138757</td>\n",
       "      <td>0.039342</td>\n",
       "      <td>0.848485</td>\n",
       "      <td>2.713123</td>\n",
       "      <td>125.975711</td>\n",
       "      <td>82.016016</td>\n",
       "      <td>31.715561</td>\n",
       "      <td>9.379874</td>\n",
       "      <td>-10.052209</td>\n",
       "      <td>0.399335</td>\n",
       "      <td>0.753916</td>\n",
       "      <td>125.975708</td>\n",
       "      <td>82.016014</td>\n",
       "      <td>31.715561</td>\n",
       "    </tr>\n",
       "    <tr>\n",
       "      <th>1</th>\n",
       "      <td>11.403508</td>\n",
       "      <td>0.962432</td>\n",
       "      <td>0.099441</td>\n",
       "      <td>1.030303</td>\n",
       "      <td>1.380642</td>\n",
       "      <td>154.909266</td>\n",
       "      <td>201.215344</td>\n",
       "      <td>111.204516</td>\n",
       "      <td>9.290157</td>\n",
       "      <td>-9.820166</td>\n",
       "      <td>0.361644</td>\n",
       "      <td>0.637918</td>\n",
       "      <td>154.909271</td>\n",
       "      <td>201.215347</td>\n",
       "      <td>111.204514</td>\n",
       "    </tr>\n",
       "    <tr>\n",
       "      <th>2</th>\n",
       "      <td>11.780484</td>\n",
       "      <td>1.048434</td>\n",
       "      <td>0.056187</td>\n",
       "      <td>0.484848</td>\n",
       "      <td>1.573290</td>\n",
       "      <td>28.812924</td>\n",
       "      <td>155.460047</td>\n",
       "      <td>161.308766</td>\n",
       "      <td>10.098295</td>\n",
       "      <td>-9.393343</td>\n",
       "      <td>0.382119</td>\n",
       "      <td>0.370548</td>\n",
       "      <td>28.812923</td>\n",
       "      <td>155.460052</td>\n",
       "      <td>161.308762</td>\n",
       "    </tr>\n",
       "    <tr>\n",
       "      <th>3</th>\n",
       "      <td>11.794834</td>\n",
       "      <td>1.027043</td>\n",
       "      <td>0.049529</td>\n",
       "      <td>1.393939</td>\n",
       "      <td>1.396696</td>\n",
       "      <td>180.292406</td>\n",
       "      <td>87.729242</td>\n",
       "      <td>4.053393</td>\n",
       "      <td>10.158817</td>\n",
       "      <td>-10.266439</td>\n",
       "      <td>0.587131</td>\n",
       "      <td>0.698915</td>\n",
       "      <td>180.292404</td>\n",
       "      <td>87.729240</td>\n",
       "      <td>4.053393</td>\n",
       "    </tr>\n",
       "    <tr>\n",
       "      <th>4</th>\n",
       "      <td>11.282836</td>\n",
       "      <td>0.894800</td>\n",
       "      <td>0.077483</td>\n",
       "      <td>1.212121</td>\n",
       "      <td>3.869009</td>\n",
       "      <td>24.234033</td>\n",
       "      <td>113.801063</td>\n",
       "      <td>138.395078</td>\n",
       "      <td>9.150318</td>\n",
       "      <td>-9.774971</td>\n",
       "      <td>0.400419</td>\n",
       "      <td>0.634539</td>\n",
       "      <td>24.234034</td>\n",
       "      <td>113.801064</td>\n",
       "      <td>138.395081</td>\n",
       "    </tr>\n",
       "  </tbody>\n",
       "</table>\n",
       "</div>"
      ],
      "text/plain": [
       "         M_h       C_h       S_h       z_h  Delta3_h         X_h         Y_h  \\\n",
       "0  11.275434  1.138757  0.039342  0.848485  2.713123  125.975711   82.016016   \n",
       "1  11.403508  0.962432  0.099441  1.030303  1.380642  154.909266  201.215344   \n",
       "2  11.780484  1.048434  0.056187  0.484848  1.573290   28.812924  155.460047   \n",
       "3  11.794834  1.027043  0.049529  1.393939  1.396696  180.292406   87.729242   \n",
       "4  11.282836  0.894800  0.077483  1.212121  3.869009   24.234033  113.801063   \n",
       "\n",
       "          Z_h  stellar_mass       sSFR    radius     color         x_g  \\\n",
       "0   31.715561      9.379874 -10.052209  0.399335  0.753916  125.975708   \n",
       "1  111.204516      9.290157  -9.820166  0.361644  0.637918  154.909271   \n",
       "2  161.308766     10.098295  -9.393343  0.382119  0.370548   28.812923   \n",
       "3    4.053393     10.158817 -10.266439  0.587131  0.698915  180.292404   \n",
       "4  138.395078      9.150318  -9.774971  0.400419  0.634539   24.234034   \n",
       "\n",
       "          y_g         z_g  \n",
       "0   82.016014   31.715561  \n",
       "1  201.215347  111.204514  \n",
       "2  155.460052  161.308762  \n",
       "3   87.729240    4.053393  \n",
       "4  113.801064  138.395081  "
      ]
     },
     "execution_count": 3,
     "metadata": {},
     "output_type": "execute_result"
    }
   ],
   "source": [
    "df = pd.read_csv('../data/IllustrisTNG.csv')\n",
    "df.head()"
   ]
  },
  {
   "cell_type": "markdown",
   "id": "e5820536-6a31-48a1-87e9-a27bee6c02bf",
   "metadata": {},
   "source": [
    "### Selecting the data"
   ]
  },
  {
   "cell_type": "code",
   "execution_count": 4,
   "id": "8dfaa09c-cbe5-455b-9689-573ff5d06168",
   "metadata": {},
   "outputs": [
    {
     "data": {
      "text/plain": [
       "((100, 5), (100,))"
      ]
     },
     "execution_count": 4,
     "metadata": {},
     "output_type": "execute_result"
    }
   ],
   "source": [
    "#RAW and SMOGN\n",
    "data = np.array([df['M_h'], df['C_h'], df['S_h'], df['z_h'], df['Delta3_h']]).T\n",
    "target = np.array([df[prop]]).T[:, 0]\n",
    "data.shape, target.shape"
   ]
  },
  {
   "cell_type": "markdown",
   "id": "72a88c34-bd74-46e0-9a21-8339f2aed0b9",
   "metadata": {},
   "source": [
    "Pre-processing the data"
   ]
  },
  {
   "cell_type": "code",
   "execution_count": 5,
   "id": "089363c8-dcc1-4932-9d9f-9aa0a82ead21",
   "metadata": {},
   "outputs": [
    {
     "data": {
      "text/plain": [
       "(array([11.5193223 ,  1.00425828,  0.05926026,  1.33818182,  3.30134054]),\n",
       " array([0.44408401, 0.11618406, 0.0335431 , 0.66813502, 2.9047534 ]))"
      ]
     },
     "execution_count": 5,
     "metadata": {},
     "output_type": "execute_result"
    }
   ],
   "source": [
    "mean_data = np.mean(data, axis = 0)\n",
    "std_data = np.std(data, axis = 0)\n",
    "mean_data, std_data"
   ]
  },
  {
   "cell_type": "code",
   "execution_count": 6,
   "id": "bc932a60-4b47-4152-9ae4-6f9c93118587",
   "metadata": {},
   "outputs": [],
   "source": [
    "data -= mean_data\n",
    "data /= std_data"
   ]
  },
  {
   "cell_type": "markdown",
   "id": "54608cc4-c093-4ddd-8a8d-38a160d6d6d8",
   "metadata": {},
   "source": [
    "### Loading the models"
   ]
  },
  {
   "cell_type": "code",
   "execution_count": 7,
   "id": "8963266f-8210-4ba9-99c8-0fb50e7a85c3",
   "metadata": {},
   "outputs": [
    {
     "name": "stderr",
     "output_type": "stream",
     "text": [
      "/usr/local/lib/python3.8/dist-packages/sklearn/base.py:310: UserWarning: Trying to unpickle estimator KNeighborsRegressor from version 0.22.2.post1 when using version 0.24.2. This might lead to breaking code or invalid results. Use at your own risk.\n",
      "  warnings.warn(\n",
      "/usr/local/lib/python3.8/dist-packages/sklearn/base.py:310: UserWarning: Trying to unpickle estimator ExtraTreeRegressor from version 1.0.1 when using version 0.24.2. This might lead to breaking code or invalid results. Use at your own risk.\n",
      "  warnings.warn(\n",
      "/usr/local/lib/python3.8/dist-packages/sklearn/base.py:310: UserWarning: Trying to unpickle estimator ExtraTreesRegressor from version 1.0.1 when using version 0.24.2. This might lead to breaking code or invalid results. Use at your own risk.\n",
      "  warnings.warn(\n",
      "/usr/local/lib/python3.8/dist-packages/sklearn/base.py:310: UserWarning: Trying to unpickle estimator LinearRegression from version 1.0.1 when using version 0.24.2. This might lead to breaking code or invalid results. Use at your own risk.\n",
      "  warnings.warn(\n"
     ]
    }
   ],
   "source": [
    "#Raw\n",
    "raw_NN = load_model('../models/'+prop+'/raw-NN.h5')\n",
    "raw_kNN = pickle.load(open('../models/'+prop+'/raw-kNN.sav', 'rb'))\n",
    "raw_LGBM = lgbm.Booster(model_file = '../models/'+prop+'/raw-LGBM.txt')\n",
    "raw_ERT = pickle.load(open('../models/'+prop+'/raw-ERT.pkl', 'rb'))\n",
    "raw_stacked = pickle.load(open('../models/'+prop+'/raw-stacked.sav', 'rb'))\n",
    "#SMOGN\n",
    "SMOGN_NN = load_model('../models/'+prop+'/SMOGN-NN.h5')\n",
    "SMOGN_kNN = pickle.load(open('../models/'+prop+'/SMOGN-kNN.sav', 'rb'))\n",
    "SMOGN_LGBM = lgbm.Booster(model_file = '../models/'+prop+'/SMOGN-LGBM.txt')\n",
    "SMOGN_ERT = pickle.load(open('../models/'+prop+'/SMOGN-ERT.pkl', 'rb'))\n",
    "SMOGN_stacked = pickle.load(open('../models/'+prop+'/SMOGN-stacked.sav', 'rb'))"
   ]
  },
  {
   "cell_type": "markdown",
   "id": "9fd2795c-d5e0-4d0e-a47f-da4a286624d8",
   "metadata": {},
   "source": [
    "#### To get information about the used hyperparameters, use:"
   ]
  },
  {
   "cell_type": "code",
   "execution_count": 8,
   "id": "9337779a-775b-404b-be7c-dfe148df9da1",
   "metadata": {},
   "outputs": [
    {
     "data": {
      "text/plain": [
       "{'name': 'sequential_4',\n",
       " 'layers': [{'class_name': 'InputLayer',\n",
       "   'config': {'batch_input_shape': (None, 5),\n",
       "    'dtype': 'float32',\n",
       "    'sparse': False,\n",
       "    'ragged': False,\n",
       "    'name': 'dense_12_input'}},\n",
       "  {'class_name': 'Dense',\n",
       "   'config': {'name': 'dense_12',\n",
       "    'trainable': True,\n",
       "    'batch_input_shape': (None, 5),\n",
       "    'dtype': 'float32',\n",
       "    'units': 32,\n",
       "    'activation': 'relu',\n",
       "    'use_bias': True,\n",
       "    'kernel_initializer': {'class_name': 'GlorotUniform',\n",
       "     'config': {'seed': None}},\n",
       "    'bias_initializer': {'class_name': 'Zeros', 'config': {}},\n",
       "    'kernel_regularizer': None,\n",
       "    'bias_regularizer': None,\n",
       "    'activity_regularizer': None,\n",
       "    'kernel_constraint': None,\n",
       "    'bias_constraint': None}},\n",
       "  {'class_name': 'Dense',\n",
       "   'config': {'name': 'dense_13',\n",
       "    'trainable': True,\n",
       "    'dtype': 'float32',\n",
       "    'units': 32,\n",
       "    'activation': 'relu',\n",
       "    'use_bias': True,\n",
       "    'kernel_initializer': {'class_name': 'GlorotUniform',\n",
       "     'config': {'seed': None}},\n",
       "    'bias_initializer': {'class_name': 'Zeros', 'config': {}},\n",
       "    'kernel_regularizer': None,\n",
       "    'bias_regularizer': None,\n",
       "    'activity_regularizer': None,\n",
       "    'kernel_constraint': None,\n",
       "    'bias_constraint': None}},\n",
       "  {'class_name': 'Dense',\n",
       "   'config': {'name': 'dense_14',\n",
       "    'trainable': True,\n",
       "    'dtype': 'float32',\n",
       "    'units': 1,\n",
       "    'activation': 'linear',\n",
       "    'use_bias': True,\n",
       "    'kernel_initializer': {'class_name': 'GlorotUniform',\n",
       "     'config': {'seed': None}},\n",
       "    'bias_initializer': {'class_name': 'Zeros', 'config': {}},\n",
       "    'kernel_regularizer': None,\n",
       "    'bias_regularizer': None,\n",
       "    'activity_regularizer': None,\n",
       "    'kernel_constraint': None,\n",
       "    'bias_constraint': None}}]}"
      ]
     },
     "execution_count": 8,
     "metadata": {},
     "output_type": "execute_result"
    }
   ],
   "source": [
    "#NN\n",
    "raw_NN.get_config()"
   ]
  },
  {
   "cell_type": "code",
   "execution_count": 9,
   "id": "eb9dba92-84b0-4e1e-a0db-7a78dc5157b6",
   "metadata": {},
   "outputs": [
    {
     "data": {
      "text/plain": [
       "{'algorithm': 'auto',\n",
       " 'leaf_size': 30,\n",
       " 'metric': 'minkowski',\n",
       " 'metric_params': None,\n",
       " 'n_jobs': None,\n",
       " 'n_neighbors': 29,\n",
       " 'p': 1,\n",
       " 'weights': 'uniform'}"
      ]
     },
     "execution_count": 9,
     "metadata": {},
     "output_type": "execute_result"
    }
   ],
   "source": [
    "#kNN\n",
    "raw_kNN.get_params()"
   ]
  },
  {
   "cell_type": "code",
   "execution_count": 10,
   "id": "18b9ecf3-6657-4e25-b895-4c7482f057ed",
   "metadata": {},
   "outputs": [],
   "source": [
    "#LGBM\n",
    "#raw_LGBM.dump_model()"
   ]
  },
  {
   "cell_type": "code",
   "execution_count": 11,
   "id": "20438782-63a1-4f69-93d0-963745fa6535",
   "metadata": {},
   "outputs": [],
   "source": [
    "#ERT\n",
    "#raw_ERT.get_params()"
   ]
  },
  {
   "cell_type": "code",
   "execution_count": 12,
   "id": "2c1ea64c-740f-4a58-9eb2-7446b0d336cb",
   "metadata": {},
   "outputs": [
    {
     "data": {
      "text/plain": [
       "{'copy_X': True,\n",
       " 'fit_intercept': True,\n",
       " 'n_jobs': None,\n",
       " 'normalize': 'deprecated',\n",
       " 'positive': False}"
      ]
     },
     "execution_count": 12,
     "metadata": {},
     "output_type": "execute_result"
    }
   ],
   "source": [
    "#Stacked\n",
    "raw_stacked.get_params()"
   ]
  },
  {
   "cell_type": "markdown",
   "id": "4e236a70-fb1b-4c5d-b55e-a546079986bd",
   "metadata": {},
   "source": [
    "### Predictions"
   ]
  },
  {
   "cell_type": "code",
   "execution_count": 13,
   "id": "4e5a18bb-ee2a-4e94-b6a4-7592819d38bb",
   "metadata": {},
   "outputs": [],
   "source": [
    "#RAW\n",
    "pred_raw_NN = raw_NN.predict(data)\n",
    "pred_raw_kNN = raw_kNN.predict(data)\n",
    "pred_raw_LGBM = raw_LGBM.predict(data)\n",
    "pred_raw_ERT = raw_ERT.predict(data)\n",
    "#SMOGN\n",
    "pred_SMOGN_NN = SMOGN_NN.predict(data)\n",
    "pred_SMOGN_kNN = SMOGN_kNN.predict(data)\n",
    "pred_SMOGN_LGBM = SMOGN_LGBM.predict(data)\n",
    "pred_SMOGN_ERT = SMOGN_ERT.predict(data)"
   ]
  },
  {
   "cell_type": "markdown",
   "id": "ad68a9cc-230e-4533-92b8-4cca1fd47ac8",
   "metadata": {},
   "source": [
    "### PDF comparison"
   ]
  },
  {
   "cell_type": "code",
   "execution_count": 14,
   "id": "5fcfeb2a-dc07-46c3-ae4f-65fd2a77bd82",
   "metadata": {},
   "outputs": [
    {
     "data": {
      "text/plain": [
       "Text(0.5, 1.0, 'PDF comparison: Raw predictions')"
      ]
     },
     "execution_count": 14,
     "metadata": {},
     "output_type": "execute_result"
    },
    {
     "data": {
      "image/png": "[encoded data removed]",
      "text/plain": [
       "<Figure size 600x400 with 1 Axes>"
      ]
     },
     "metadata": {
      "needs_background": "light"
     },
     "output_type": "display_data"
    }
   ],
   "source": [
    "#RAW\n",
    "plt.figure(dpi = 100)\n",
    "hist(target, bins = 'scott', label = 'True')\n",
    "hist(pred_raw_NN, bins = 'scott', alpha = 0.7, label = 'NN')\n",
    "hist(pred_raw_kNN, bins = 'scott', alpha = 0.5, label = 'kNN')\n",
    "hist(pred_raw_LGBM, bins = 'scott', alpha = 0.3, label = 'LGBM')\n",
    "plt.yscale('log')\n",
    "plt.legend()\n",
    "plt.ylabel(r'$\\#$ of central galaxies')\n",
    "plt.xlabel(prop)\n",
    "plt.title('PDF comparison: Raw predictions')"
   ]
  },
  {
   "cell_type": "code",
   "execution_count": 15,
   "id": "66e07148-1854-4e09-b659-878c6fd43fba",
   "metadata": {},
   "outputs": [
    {
     "data": {
      "text/plain": [
       "Text(0.5, 1.0, 'PDF comparison: SMOGN predictions')"
      ]
     },
     "execution_count": 15,
     "metadata": {},
     "output_type": "execute_result"
    },
    {
     "data": {
      "image/png": "[encoded data removed]",
      "text/plain": [
       "<Figure size 600x400 with 1 Axes>"
      ]
     },
     "metadata": {
      "needs_background": "light"
     },
     "output_type": "display_data"
    }
   ],
   "source": [
    "#SMOGN => They are not 'so good' because we have just a small fraction of the objects\n",
    "plt.figure(dpi = 100)\n",
    "hist(target, bins = 'scott', label = 'True')\n",
    "hist(pred_SMOGN_NN, bins = 'scott', alpha = 0.7, label = 'NN')\n",
    "hist(pred_SMOGN_kNN, bins = 'scott', alpha = 0.5, label = 'kNN')\n",
    "hist(pred_SMOGN_LGBM, bins = 'scott', alpha = 0.3, label = 'LGBM')\n",
    "plt.yscale('log')\n",
    "plt.legend()\n",
    "plt.ylabel(r'$\\#$ of central galaxies')\n",
    "plt.xlabel(prop)\n",
    "plt.title('PDF comparison: SMOGN predictions')"
   ]
  },
  {
   "cell_type": "markdown",
   "id": "0c6997aa-6313-4b3a-964b-bf5d51bbac03",
   "metadata": {},
   "source": [
    "### Data for the stacked models"
   ]
  },
  {
   "cell_type": "code",
   "execution_count": 16,
   "id": "63877f55-477a-49d2-bea4-26f308e25653",
   "metadata": {},
   "outputs": [],
   "source": [
    "data_stacked_raw = np.array([pred_raw_NN[:,0], pred_raw_kNN, pred_raw_LGBM, pred_raw_ERT]).T\n",
    "data_stacked_SMOGN = np.array([pred_SMOGN_NN[:,0], pred_SMOGN_kNN, pred_SMOGN_LGBM, pred_SMOGN_ERT]).T"
   ]
  },
  {
   "cell_type": "markdown",
   "id": "7c83e673-310c-4099-b180-6adb16f81fa9",
   "metadata": {},
   "source": [
    "### Predictions for the stacked models"
   ]
  },
  {
   "cell_type": "code",
   "execution_count": 17,
   "id": "d7a2377a-0028-4136-87fe-7b0cca1cbaf8",
   "metadata": {},
   "outputs": [],
   "source": [
    "pred_raw_stacked = raw_stacked.predict(data_stacked_raw)\n",
    "pred_SMOGN_stacked = SMOGN_stacked.predict(data_stacked_SMOGN)"
   ]
  },
  {
   "cell_type": "markdown",
   "id": "48a3c017-3409-4c42-9768-5898be7cf758",
   "metadata": {},
   "source": [
    "### PDF comparison for the stacked models"
   ]
  },
  {
   "cell_type": "code",
   "execution_count": 18,
   "id": "8c03de20-ba0c-49f3-9cc9-4239b77244e5",
   "metadata": {},
   "outputs": [
    {
     "data": {
      "text/plain": [
       "Text(0.5, 1.0, 'PDF comparison: Raw predictions')"
      ]
     },
     "execution_count": 18,
     "metadata": {},
     "output_type": "execute_result"
    },
    {
     "data": {
      "image/png": "[encoded data removed]",
      "text/plain": [
       "<Figure size 600x400 with 1 Axes>"
      ]
     },
     "metadata": {
      "needs_background": "light"
     },
     "output_type": "display_data"
    }
   ],
   "source": [
    "plt.figure(dpi = 100)\n",
    "hist(target, bins = 'scott', label = 'True')\n",
    "hist(pred_raw_stacked, bins = 'scott', alpha = 0.7, label = 'Raw')\n",
    "hist(pred_SMOGN_stacked, bins = 'scott', alpha = 0.5, label = 'SMOGN')\n",
    "plt.yscale('log')\n",
    "plt.legend()\n",
    "plt.ylabel(r'$\\#$ of central galaxies')\n",
    "plt.xlabel(prop)\n",
    "plt.title('PDF comparison: Raw predictions')"
   ]
  },
  {
   "cell_type": "markdown",
   "id": "9c354c6b-339d-4164-90d4-8edeeb067e3b",
   "metadata": {},
   "source": [
    "### Linear $\\times$ linear comparison"
   ]
  },
  {
   "cell_type": "code",
   "execution_count": 19,
   "id": "ac0b1140-bf0b-4738-b941-d2699faef16d",
   "metadata": {},
   "outputs": [
    {
     "data": {
      "text/plain": [
       "<matplotlib.colorbar.Colorbar at 0x7fa24c064430>"
      ]
     },
     "execution_count": 19,
     "metadata": {},
     "output_type": "execute_result"
    },
    {
     "data": {
      "image/png": "[encoded data removed]",
      "text/plain": [
       "<Figure size 720x288 with 3 Axes>"
      ]
     },
     "metadata": {
      "needs_background": "light"
     },
     "output_type": "display_data"
    }
   ],
   "source": [
    "fig, axs = plt.subplots(1, 2, figsize = (10, 4), constrained_layout=True)\n",
    "\n",
    "x = target\n",
    "y = pred_raw_stacked\n",
    "xy = np.vstack([x, y])\n",
    "z = gaussian_kde(xy)(xy)\n",
    "axs[0].plot(target, target, '--k', label = r'True $\\times$ True')\n",
    "im00 = axs[0].scatter(x, y, c = z/max(z), s = 10, cmap = 'rainbow', marker = '.')\n",
    "axs[0].set_ylabel('Pred '+prop)\n",
    "axs[0].set_xlabel('True '+prop)\n",
    "\n",
    "x = target\n",
    "y = pred_SMOGN_stacked\n",
    "xy = np.vstack([x, y])\n",
    "z = gaussian_kde(xy)(xy)\n",
    "axs[1].plot(target, target, '--k', label = r'True $\\times$ True')\n",
    "axs[1].scatter(x, y, c = z/max(z), s = 10, cmap = 'rainbow', marker = '.')\n",
    "axs[1].set_ylabel('Pred '+prop)\n",
    "axs[1].set_xlabel('True '+prop)\n",
    "\n",
    "fig.colorbar(im00, ax = axs)"
   ]
  },
  {
   "cell_type": "markdown",
   "id": "480e5c8f-de5d-4756-a53b-8e70b696729e",
   "metadata": {},
   "source": [
    "One more time: notice that the SMOGN results are shifted because we have a small dataset. Using more data, the points that are translated to fill the poor regions will be equilibrated to create the overall distribution."
   ]
  }
 ],
 "metadata": {
  "kernelspec": {
   "display_name": "Python 3",
   "language": "python",
   "name": "python3"
  },
  "language_info": {
   "codemirror_mode": {
    "name": "ipython",
    "version": 3
   },
   "file_extension": ".py",
   "mimetype": "text/x-python",
   "name": "python",
   "nbconvert_exporter": "python",
   "pygments_lexer": "ipython3",
   "version": "3.8.10"
  }
 },
 "nbformat": 4,
 "nbformat_minor": 5
}
